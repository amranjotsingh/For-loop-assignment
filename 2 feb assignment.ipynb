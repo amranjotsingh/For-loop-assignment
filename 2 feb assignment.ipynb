{
 "cells": [
  {
   "cell_type": "raw",
   "id": "787be22c-99b6-4877-8a59-80373f97f309",
   "metadata": {},
   "source": [
    "1. Explain with an example each when to use a for loop and a while loop.\n",
    "-  In case number of itration is known , then we use for loop and when number of itration is unknown , then we use while loop . Example of for loop and while loop are given below:-"
   ]
  },
  {
   "cell_type": "code",
   "execution_count": 1,
   "id": "642e691f-8a76-4a7a-9886-a707654db6d4",
   "metadata": {},
   "outputs": [],
   "source": [
    "# for loop"
   ]
  },
  {
   "cell_type": "code",
   "execution_count": 2,
   "id": "6ee6b7cc-5258-484b-a2dc-2db86d431cd5",
   "metadata": {},
   "outputs": [],
   "source": [
    "l = [1,2,3,4,5,6,7,8]"
   ]
  },
  {
   "cell_type": "code",
   "execution_count": 3,
   "id": "4de0436f-458c-4565-97c6-c02c138bfc8a",
   "metadata": {},
   "outputs": [
    {
     "name": "stdout",
     "output_type": "stream",
     "text": [
      "1\n",
      "2\n",
      "3\n",
      "4\n",
      "5\n",
      "6\n",
      "7\n",
      "8\n"
     ]
    }
   ],
   "source": [
    "for i in l:\n",
    "    print(i)"
   ]
  },
  {
   "cell_type": "code",
   "execution_count": 4,
   "id": "eed7af9d-701c-4369-9870-9075851631e4",
   "metadata": {},
   "outputs": [],
   "source": [
    "# While loop"
   ]
  },
  {
   "cell_type": "code",
   "execution_count": 6,
   "id": "9e7b5992-52f3-4538-9dd5-60de400ab6db",
   "metadata": {},
   "outputs": [
    {
     "name": "stdin",
     "output_type": "stream",
     "text": [
      "Input number 8\n"
     ]
    },
    {
     "name": "stdout",
     "output_type": "stream",
     "text": [
      "0\n",
      "1\n",
      "2\n",
      "3\n",
      "4\n",
      "5\n",
      "6\n",
      "7\n",
      "8\n"
     ]
    }
   ],
   "source": [
    "n = int(input(\"Input number\"))\n",
    "counter = 0\n",
    "while counter<=n:\n",
    "    print(counter)\n",
    "    counter = counter+1"
   ]
  },
  {
   "cell_type": "code",
   "execution_count": 7,
   "id": "f66b07b7-a025-4adc-832a-638f868bf602",
   "metadata": {},
   "outputs": [],
   "source": [
    "# Question no 2"
   ]
  },
  {
   "cell_type": "code",
   "execution_count": 17,
   "id": "f029944c-672c-4a6c-9a6b-76a457cdf107",
   "metadata": {},
   "outputs": [],
   "source": [
    "# Using for loop to sum and product first 10 natural numbers"
   ]
  },
  {
   "cell_type": "code",
   "execution_count": 35,
   "id": "ac4c4f01-8515-4963-80da-93e82ffabf6c",
   "metadata": {},
   "outputs": [
    {
     "name": "stdout",
     "output_type": "stream",
     "text": [
      "Summation of first 10 natural numbers ----> 45\n",
      "Product of first 10 natural numbers ----> 362880\n"
     ]
    }
   ],
   "source": [
    "product = 1\n",
    "summation = 0\n",
    "for i in range(1,10):\n",
    "    summation = i+summation\n",
    "    product = product*i\n",
    "\n",
    "print(\"Summation of first 10 natural numbers ---->\", summation)\n",
    "print(\"Product of first 10 natural numbers ---->\", product)"
   ]
  },
  {
   "cell_type": "code",
   "execution_count": 30,
   "id": "3848722e-ce80-467e-b074-22154ae322ee",
   "metadata": {},
   "outputs": [],
   "source": [
    "# Using while loop to sum and product first 10 natural numbers"
   ]
  },
  {
   "cell_type": "code",
   "execution_count": 40,
   "id": "6b4a54db-c1be-427b-bfd7-9d5498b266d2",
   "metadata": {},
   "outputs": [
    {
     "name": "stdin",
     "output_type": "stream",
     "text": [
      " 10\n"
     ]
    },
    {
     "name": "stdout",
     "output_type": "stream",
     "text": [
      "summation natural number is 55\n",
      "product of natural number is  3628800\n"
     ]
    }
   ],
   "source": [
    "n = int(input())\n",
    "sum = 0\n",
    "product = 1\n",
    "i = 1\n",
    "while i<=n:\n",
    "    sum = sum+i\n",
    "    product = product*i\n",
    "    i = i+1\n",
    "print(\"summation natural number is\", sum)\n",
    "print(\"product of natural number is \", product)"
   ]
  },
  {
   "cell_type": "code",
   "execution_count": 41,
   "id": "3c734740-2646-4491-ad44-d8d7947a51dc",
   "metadata": {},
   "outputs": [],
   "source": [
    "# Question number 3."
   ]
  },
  {
   "cell_type": "code",
   "execution_count": 49,
   "id": "fc3a156f-eebd-4977-8ecc-dd1069ff19ac",
   "metadata": {},
   "outputs": [
    {
     "name": "stdin",
     "output_type": "stream",
     "text": [
      "Enter Monthly Unit Consumed 310\n"
     ]
    },
    {
     "name": "stdout",
     "output_type": "stream",
     "text": [
      "Total bill is  2250.0\n"
     ]
    }
   ],
   "source": [
    "a = 4.5\n",
    "b = 6\n",
    "c = 10\n",
    "d = 20\n",
    "\n",
    "unit = int(input(\"Enter Monthly Unit Consumed\"))\n",
    "\n",
    "if unit <=100:\n",
    "    print(\"Total bill is \", a*unit)\n",
    "elif unit>100 and unit<=200:\n",
    "    print(\"Total bill is \", (unit-100)*b + 100*a)\n",
    "elif unit>200 and unit<=300:\n",
    "    print(\"Total bill is \", (unit-200)*c + 100*a + 100*b )\n",
    "else:\n",
    "    print(\"Total bill is \", (unit-300)*d + 100*a + 100*b + 100*c )"
   ]
  },
  {
   "cell_type": "code",
   "execution_count": 50,
   "id": "c4ec7da6-db14-498b-a601-9994da16b3cb",
   "metadata": {},
   "outputs": [],
   "source": [
    "# Question number 4"
   ]
  },
  {
   "cell_type": "code",
   "execution_count": 51,
   "id": "a3dce83d-8608-43e1-a1ff-7799f27bb332",
   "metadata": {},
   "outputs": [],
   "source": [
    "l = list(range(1,101))"
   ]
  },
  {
   "cell_type": "code",
   "execution_count": 52,
   "id": "45f64d71-eb25-474d-a8f1-f20df109fa1c",
   "metadata": {},
   "outputs": [
    {
     "data": {
      "text/plain": [
       "[1,\n",
       " 2,\n",
       " 3,\n",
       " 4,\n",
       " 5,\n",
       " 6,\n",
       " 7,\n",
       " 8,\n",
       " 9,\n",
       " 10,\n",
       " 11,\n",
       " 12,\n",
       " 13,\n",
       " 14,\n",
       " 15,\n",
       " 16,\n",
       " 17,\n",
       " 18,\n",
       " 19,\n",
       " 20,\n",
       " 21,\n",
       " 22,\n",
       " 23,\n",
       " 24,\n",
       " 25,\n",
       " 26,\n",
       " 27,\n",
       " 28,\n",
       " 29,\n",
       " 30,\n",
       " 31,\n",
       " 32,\n",
       " 33,\n",
       " 34,\n",
       " 35,\n",
       " 36,\n",
       " 37,\n",
       " 38,\n",
       " 39,\n",
       " 40,\n",
       " 41,\n",
       " 42,\n",
       " 43,\n",
       " 44,\n",
       " 45,\n",
       " 46,\n",
       " 47,\n",
       " 48,\n",
       " 49,\n",
       " 50,\n",
       " 51,\n",
       " 52,\n",
       " 53,\n",
       " 54,\n",
       " 55,\n",
       " 56,\n",
       " 57,\n",
       " 58,\n",
       " 59,\n",
       " 60,\n",
       " 61,\n",
       " 62,\n",
       " 63,\n",
       " 64,\n",
       " 65,\n",
       " 66,\n",
       " 67,\n",
       " 68,\n",
       " 69,\n",
       " 70,\n",
       " 71,\n",
       " 72,\n",
       " 73,\n",
       " 74,\n",
       " 75,\n",
       " 76,\n",
       " 77,\n",
       " 78,\n",
       " 79,\n",
       " 80,\n",
       " 81,\n",
       " 82,\n",
       " 83,\n",
       " 84,\n",
       " 85,\n",
       " 86,\n",
       " 87,\n",
       " 88,\n",
       " 89,\n",
       " 90,\n",
       " 91,\n",
       " 92,\n",
       " 93,\n",
       " 94,\n",
       " 95,\n",
       " 96,\n",
       " 97,\n",
       " 98,\n",
       " 99,\n",
       " 100]"
      ]
     },
     "execution_count": 52,
     "metadata": {},
     "output_type": "execute_result"
    }
   ],
   "source": [
    "l"
   ]
  },
  {
   "cell_type": "code",
   "execution_count": 88,
   "id": "72d16595-9f8f-4297-ae43-87e59f950c04",
   "metadata": {},
   "outputs": [
    {
     "data": {
      "text/plain": [
       "[1,\n",
       " 8,\n",
       " 27,\n",
       " 64,\n",
       " 125,\n",
       " 216,\n",
       " 343,\n",
       " 512,\n",
       " 729,\n",
       " 1000,\n",
       " 1331,\n",
       " 1728,\n",
       " 2197,\n",
       " 2744,\n",
       " 3375,\n",
       " 4096,\n",
       " 4913,\n",
       " 5832,\n",
       " 6859,\n",
       " 8000,\n",
       " 9261,\n",
       " 10648,\n",
       " 12167,\n",
       " 13824,\n",
       " 15625,\n",
       " 17576,\n",
       " 19683,\n",
       " 21952,\n",
       " 24389,\n",
       " 27000,\n",
       " 29791,\n",
       " 32768,\n",
       " 35937,\n",
       " 39304,\n",
       " 42875,\n",
       " 46656,\n",
       " 50653,\n",
       " 54872,\n",
       " 59319,\n",
       " 64000,\n",
       " 68921,\n",
       " 74088,\n",
       " 79507,\n",
       " 85184,\n",
       " 91125,\n",
       " 97336,\n",
       " 103823,\n",
       " 110592,\n",
       " 117649,\n",
       " 125000,\n",
       " 132651,\n",
       " 140608,\n",
       " 148877,\n",
       " 157464,\n",
       " 166375,\n",
       " 175616,\n",
       " 185193,\n",
       " 195112,\n",
       " 205379,\n",
       " 216000,\n",
       " 226981,\n",
       " 238328,\n",
       " 250047,\n",
       " 262144,\n",
       " 274625,\n",
       " 287496,\n",
       " 300763,\n",
       " 314432,\n",
       " 328509,\n",
       " 343000,\n",
       " 357911,\n",
       " 373248,\n",
       " 389017,\n",
       " 405224,\n",
       " 421875,\n",
       " 438976,\n",
       " 456533,\n",
       " 474552,\n",
       " 493039,\n",
       " 512000,\n",
       " 531441,\n",
       " 551368,\n",
       " 571787,\n",
       " 592704,\n",
       " 614125,\n",
       " 636056,\n",
       " 658503,\n",
       " 681472,\n",
       " 704969,\n",
       " 729000,\n",
       " 753571,\n",
       " 778688,\n",
       " 804357,\n",
       " 830584,\n",
       " 857375,\n",
       " 884736,\n",
       " 912673,\n",
       " 941192,\n",
       " 970299,\n",
       " 1000000]"
      ]
     },
     "execution_count": 88,
     "metadata": {},
     "output_type": "execute_result"
    }
   ],
   "source": [
    "l1 = []\n",
    "for i in l:\n",
    "    l1.append(i**3)\n",
    "l1\n",
    "    "
   ]
  },
  {
   "cell_type": "code",
   "execution_count": 89,
   "id": "370c1dfe-1e80-49d5-9240-f1421df52338",
   "metadata": {},
   "outputs": [],
   "source": [
    "# using while loop "
   ]
  },
  {
   "cell_type": "code",
   "execution_count": 90,
   "id": "2b1aa6f5-aa21-4729-b72a-12e1dbdef28b",
   "metadata": {},
   "outputs": [
    {
     "name": "stdout",
     "output_type": "stream",
     "text": [
      "1\n",
      "8\n",
      "27\n",
      "64\n",
      "125\n",
      "216\n",
      "343\n",
      "512\n",
      "729\n",
      "1000\n",
      "1331\n",
      "1728\n",
      "2197\n",
      "2744\n",
      "3375\n",
      "4096\n",
      "4913\n",
      "5832\n",
      "6859\n",
      "8000\n",
      "9261\n",
      "10648\n",
      "12167\n",
      "13824\n",
      "15625\n",
      "17576\n",
      "19683\n",
      "21952\n",
      "24389\n",
      "27000\n",
      "29791\n",
      "32768\n",
      "35937\n",
      "39304\n",
      "42875\n",
      "46656\n",
      "50653\n",
      "54872\n",
      "59319\n",
      "64000\n",
      "68921\n",
      "74088\n",
      "79507\n",
      "85184\n",
      "91125\n",
      "97336\n",
      "103823\n",
      "110592\n",
      "117649\n",
      "125000\n",
      "132651\n",
      "140608\n",
      "148877\n",
      "157464\n",
      "166375\n",
      "175616\n",
      "185193\n",
      "195112\n",
      "205379\n",
      "216000\n",
      "226981\n",
      "238328\n",
      "250047\n",
      "262144\n",
      "274625\n",
      "287496\n",
      "300763\n",
      "314432\n",
      "328509\n",
      "343000\n",
      "357911\n",
      "373248\n",
      "389017\n",
      "405224\n",
      "421875\n",
      "438976\n",
      "456533\n",
      "474552\n",
      "493039\n",
      "512000\n",
      "531441\n",
      "551368\n",
      "571787\n",
      "592704\n",
      "614125\n",
      "636056\n",
      "658503\n",
      "681472\n",
      "704969\n",
      "729000\n",
      "753571\n",
      "778688\n",
      "804357\n",
      "830584\n",
      "857375\n",
      "884736\n",
      "912673\n",
      "941192\n",
      "970299\n",
      "1000000\n"
     ]
    }
   ],
   "source": [
    "cube = 1\n",
    "counter = 1\n",
    "while counter<=100:\n",
    "    result = cube*cube*cube\n",
    "    print(result)\n",
    "    cube = cube+1\n",
    "    counter = counter+1"
   ]
  },
  {
   "cell_type": "code",
   "execution_count": null,
   "id": "dc812bad-e681-404b-93cc-e988b3282630",
   "metadata": {},
   "outputs": [],
   "source": []
  },
  {
   "cell_type": "code",
   "execution_count": 91,
   "id": "9e45e7ef-6ceb-47a7-beba-2a81c234f9e5",
   "metadata": {},
   "outputs": [],
   "source": [
    "# Question no 5"
   ]
  },
  {
   "cell_type": "code",
   "execution_count": 106,
   "id": "9e8b324b-8f20-482c-847f-1592b2166125",
   "metadata": {},
   "outputs": [
    {
     "name": "stdout",
     "output_type": "stream",
     "text": [
      "Number of vowels in the given string is:  11\n"
     ]
    }
   ],
   "source": [
    "example = \"I want to become a data scientist\"\n",
    "\n",
    "\n",
    "count = 0\n",
    "\n",
    "\n",
    "for i in range(len(example)):\n",
    "    if (\n",
    "        (example[i] == \"a\")\n",
    "        or (example[i] == \"e\")\n",
    "        or (example[i] == \"i\")\n",
    "        or (example[i] == \"o\")\n",
    "        or (example[i] == \"u\")\n",
    "    ):\n",
    "        count += 1\n",
    "\n",
    "print(\"Number of vowels in the given string is: \", count)"
   ]
  },
  {
   "cell_type": "code",
   "execution_count": 107,
   "id": "2e70edf4-42ec-47fa-b802-e8cd3b709f41",
   "metadata": {},
   "outputs": [
    {
     "data": {
      "text/plain": [
       "range(0, 33)"
      ]
     },
     "execution_count": 107,
     "metadata": {},
     "output_type": "execute_result"
    }
   ],
   "source": [
    "range(len(example))"
   ]
  },
  {
   "cell_type": "code",
   "execution_count": null,
   "id": "b54eb71b-9d24-44eb-a6c7-ae3393752812",
   "metadata": {},
   "outputs": [],
   "source": []
  }
 ],
 "metadata": {
  "kernelspec": {
   "display_name": "Python 3 (ipykernel)",
   "language": "python",
   "name": "python3"
  },
  "language_info": {
   "codemirror_mode": {
    "name": "ipython",
    "version": 3
   },
   "file_extension": ".py",
   "mimetype": "text/x-python",
   "name": "python",
   "nbconvert_exporter": "python",
   "pygments_lexer": "ipython3",
   "version": "3.10.8"
  }
 },
 "nbformat": 4,
 "nbformat_minor": 5
}
